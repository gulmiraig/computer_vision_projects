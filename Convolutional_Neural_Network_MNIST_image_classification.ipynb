{
  "nbformat": 4,
  "nbformat_minor": 0,
  "metadata": {
    "colab": {
      "name": "Convolutional Neural Network_MNIST_image_classification.ipynb",
      "provenance": []
    },
    "kernelspec": {
      "name": "python3",
      "display_name": "Python 3"
    }
  },
  "cells": [
    {
      "cell_type": "markdown",
      "metadata": {
        "id": "vv2GfDN3swhc"
      },
      "source": [
        "- MNIST dataset. \n",
        "- This is image classification project where Convolutional Neural Network are used.  \n",
        "- Build a model that identifies the class of fashion article based on image. "
      ]
    },
    {
      "cell_type": "code",
      "metadata": {
        "id": "K53BzWPjE11y"
      },
      "source": [
        "import numpy as np\n",
        "import pandas as pd\n",
        "%matplotlib inline\n",
        "import matplotlib as mpl\n",
        "import matplotlib.pyplot as plt"
      ],
      "execution_count": 58,
      "outputs": []
    },
    {
      "cell_type": "markdown",
      "metadata": {
        "id": "ZWBH8tT5su10"
      },
      "source": [
        ""
      ]
    },
    {
      "cell_type": "code",
      "metadata": {
        "id": "ZWjagTpWFiE0"
      },
      "source": [
        "import tensorflow as tf \n",
        "from tensorflow import keras"
      ],
      "execution_count": 26,
      "outputs": []
    },
    {
      "cell_type": "code",
      "metadata": {
        "id": "rYE8Wec7Fs7d"
      },
      "source": [
        "fashion_mnist = keras.datasets.fashion_mnist\n",
        "(X_train_full, y_train_full), (X_test, y_test) = fashion_mnist.load_data()"
      ],
      "execution_count": 27,
      "outputs": []
    },
    {
      "cell_type": "code",
      "metadata": {
        "id": "Rd3lrhmGGRu0"
      },
      "source": [
        "class_names = [\"T-shirt/top\",\"Trouser\", \"Pullover\", \"Dress\", \"Coat\", \"Sandal\", \"Shirt\", \"Sneaker\", \"Bag\", \"Ankle boot\"]"
      ],
      "execution_count": 28,
      "outputs": []
    },
    {
      "cell_type": "markdown",
      "metadata": {
        "id": "vqK1uOkGNEAy"
      },
      "source": [
        "##**Data Reshape**"
      ]
    },
    {
      "cell_type": "code",
      "metadata": {
        "id": "GLeuwlvwHLx-"
      },
      "source": [
        "X_train_full = X_train_full.reshape((60000, 28, 28, 1))\n",
        "X_test = X_test.reshape((10000, 28, 28, 1))"
      ],
      "execution_count": 29,
      "outputs": []
    },
    {
      "cell_type": "markdown",
      "metadata": {
        "id": "t212d-TdNg7R"
      },
      "source": [
        "##**Data normalization**"
      ]
    },
    {
      "cell_type": "code",
      "metadata": {
        "id": "uoPQfUI9MR8z"
      },
      "source": [
        "X_train_n = X_train_full / 255"
      ],
      "execution_count": 30,
      "outputs": []
    },
    {
      "cell_type": "code",
      "metadata": {
        "id": "5rbwWoVXN0p2"
      },
      "source": [
        "X_test_n = X_test / 255"
      ],
      "execution_count": 31,
      "outputs": []
    },
    {
      "cell_type": "markdown",
      "metadata": {
        "id": "6LM6g11kP-Go"
      },
      "source": [
        "##**Splitting the data into train / validation / test datasets**"
      ]
    },
    {
      "cell_type": "code",
      "metadata": {
        "id": "GlSsvB9IOASW"
      },
      "source": [
        "X_valid, X_train = X_train_n[:5000], X_train_n[5000:]\n",
        "y_valid, y_train = y_train_full[:5000], y_train_full[5000:]\n",
        "X_test = X_test_n"
      ],
      "execution_count": 32,
      "outputs": []
    },
    {
      "cell_type": "markdown",
      "metadata": {
        "id": "4Hfimnn_Qwcs"
      },
      "source": [
        "##**Create the model architecture**"
      ]
    },
    {
      "cell_type": "code",
      "metadata": {
        "id": "oL7sJQ5ZRB1x"
      },
      "source": [
        "np.random.seed(42)\n",
        "tf.random.set_seed(42)"
      ],
      "execution_count": 33,
      "outputs": []
    },
    {
      "cell_type": "markdown",
      "metadata": {
        "id": "iqgPXRQmRbvI"
      },
      "source": [
        "Architecture: \n",
        "\n",
        "- Input Layer 28x28x3 \n",
        "- Conv Layer  26x26x32\n",
        "- Pooling Layer 13x13x32\n",
        "- Flatten Layer 5408\n",
        "- Dense Layer 300 neuron\n",
        "- Dense Layer 100 neuron\n",
        "- Output Layer 10 neuron"
      ]
    },
    {
      "cell_type": "code",
      "metadata": {
        "id": "TzZGjT5tRJsD"
      },
      "source": [
        "model = keras.models.Sequential()\n",
        "model.add(keras.layers.Conv2D(filters = 32, kernel_size=(3,3),  strides=1, padding='valid', activation='relu', input_shape=(28, 28, 1)))\n",
        "model.add(keras.layers.MaxPooling2D((2,2)))\n",
        "\n",
        "model.add(keras.layers.Flatten())\n",
        "model.add(keras.layers.Dense(300, activation=\"relu\"))\n",
        "model.add(keras.layers.Dense(100, activation=\"relu\"))\n",
        "model.add(keras.layers.Dense(10, activation=\"softmax\"))"
      ],
      "execution_count": 34,
      "outputs": []
    },
    {
      "cell_type": "code",
      "metadata": {
        "colab": {
          "base_uri": "https://localhost:8080/"
        },
        "id": "lBHLvh5cYor7",
        "outputId": "c1b59132-82c4-4dcf-a587-09440aefd554"
      },
      "source": [
        "model.summary()"
      ],
      "execution_count": 35,
      "outputs": [
        {
          "output_type": "stream",
          "text": [
            "Model: \"sequential_2\"\n",
            "_________________________________________________________________\n",
            "Layer (type)                 Output Shape              Param #   \n",
            "=================================================================\n",
            "conv2d_1 (Conv2D)            (None, 26, 26, 32)        320       \n",
            "_________________________________________________________________\n",
            "max_pooling2d_1 (MaxPooling2 (None, 13, 13, 32)        0         \n",
            "_________________________________________________________________\n",
            "flatten_1 (Flatten)          (None, 5408)              0         \n",
            "_________________________________________________________________\n",
            "dense_3 (Dense)              (None, 300)               1622700   \n",
            "_________________________________________________________________\n",
            "dense_4 (Dense)              (None, 100)               30100     \n",
            "_________________________________________________________________\n",
            "dense_5 (Dense)              (None, 10)                1010      \n",
            "=================================================================\n",
            "Total params: 1,654,130\n",
            "Trainable params: 1,654,130\n",
            "Non-trainable params: 0\n",
            "_________________________________________________________________\n"
          ],
          "name": "stdout"
        }
      ]
    },
    {
      "cell_type": "code",
      "metadata": {
        "id": "u1PlFilFaKCR"
      },
      "source": [
        "model.compile(loss=\"sparse_categorical_crossentropy\", \n",
        "              optimizer = \"sgd\",\n",
        "              metrics = [\"accuracy\"])"
      ],
      "execution_count": 39,
      "outputs": []
    },
    {
      "cell_type": "code",
      "metadata": {
        "colab": {
          "base_uri": "https://localhost:8080/"
        },
        "id": "CZCzP8FhbIJn",
        "outputId": "09cdf202-c40b-4631-e539-e0c2a2fe05df"
      },
      "source": [
        "model_history = model.fit(X_train, y_train, epochs = 30, batch_size=64, validation_data=(X_valid, y_valid))"
      ],
      "execution_count": 40,
      "outputs": [
        {
          "output_type": "stream",
          "text": [
            "Epoch 1/30\n",
            "860/860 [==============================] - 35s 40ms/step - loss: 0.8767 - accuracy: 0.6990 - val_loss: 0.7524 - val_accuracy: 0.7354\n",
            "Epoch 2/30\n",
            "860/860 [==============================] - 34s 40ms/step - loss: 0.5390 - accuracy: 0.8049 - val_loss: 0.4938 - val_accuracy: 0.8180\n",
            "Epoch 3/30\n",
            "860/860 [==============================] - 35s 40ms/step - loss: 0.4813 - accuracy: 0.8261 - val_loss: 0.9357 - val_accuracy: 0.7090\n",
            "Epoch 4/30\n",
            "860/860 [==============================] - 34s 40ms/step - loss: 0.4440 - accuracy: 0.8415 - val_loss: 0.4147 - val_accuracy: 0.8560\n",
            "Epoch 5/30\n",
            "860/860 [==============================] - 34s 40ms/step - loss: 0.4199 - accuracy: 0.8502 - val_loss: 0.4388 - val_accuracy: 0.8478\n",
            "Epoch 6/30\n",
            "860/860 [==============================] - 34s 40ms/step - loss: 0.3956 - accuracy: 0.8581 - val_loss: 0.3772 - val_accuracy: 0.8710\n",
            "Epoch 7/30\n",
            "860/860 [==============================] - 35s 40ms/step - loss: 0.3782 - accuracy: 0.8659 - val_loss: 0.4091 - val_accuracy: 0.8540\n",
            "Epoch 8/30\n",
            "860/860 [==============================] - 34s 40ms/step - loss: 0.3627 - accuracy: 0.8693 - val_loss: 0.5152 - val_accuracy: 0.8084\n",
            "Epoch 9/30\n",
            "860/860 [==============================] - 34s 40ms/step - loss: 0.3488 - accuracy: 0.8737 - val_loss: 0.3699 - val_accuracy: 0.8678\n",
            "Epoch 10/30\n",
            "860/860 [==============================] - 35s 40ms/step - loss: 0.3369 - accuracy: 0.8784 - val_loss: 0.3910 - val_accuracy: 0.8574\n",
            "Epoch 11/30\n",
            "860/860 [==============================] - 34s 40ms/step - loss: 0.3249 - accuracy: 0.8820 - val_loss: 0.3432 - val_accuracy: 0.8780\n",
            "Epoch 12/30\n",
            "860/860 [==============================] - 35s 40ms/step - loss: 0.3134 - accuracy: 0.8863 - val_loss: 0.3224 - val_accuracy: 0.8870\n",
            "Epoch 13/30\n",
            "860/860 [==============================] - 34s 40ms/step - loss: 0.3063 - accuracy: 0.8893 - val_loss: 0.3297 - val_accuracy: 0.8874\n",
            "Epoch 14/30\n",
            "860/860 [==============================] - 35s 40ms/step - loss: 0.2975 - accuracy: 0.8913 - val_loss: 0.3965 - val_accuracy: 0.8514\n",
            "Epoch 15/30\n",
            "860/860 [==============================] - 35s 41ms/step - loss: 0.2898 - accuracy: 0.8948 - val_loss: 0.3818 - val_accuracy: 0.8640\n",
            "Epoch 16/30\n",
            "860/860 [==============================] - 35s 41ms/step - loss: 0.2833 - accuracy: 0.8969 - val_loss: 0.2952 - val_accuracy: 0.8954\n",
            "Epoch 17/30\n",
            "860/860 [==============================] - 35s 41ms/step - loss: 0.2758 - accuracy: 0.8999 - val_loss: 0.4119 - val_accuracy: 0.8590\n",
            "Epoch 18/30\n",
            "860/860 [==============================] - 35s 41ms/step - loss: 0.2703 - accuracy: 0.9012 - val_loss: 0.3512 - val_accuracy: 0.8738\n",
            "Epoch 19/30\n",
            "860/860 [==============================] - 35s 41ms/step - loss: 0.2643 - accuracy: 0.9034 - val_loss: 0.3051 - val_accuracy: 0.8892\n",
            "Epoch 20/30\n",
            "860/860 [==============================] - 35s 41ms/step - loss: 0.2587 - accuracy: 0.9053 - val_loss: 0.3207 - val_accuracy: 0.8842\n",
            "Epoch 21/30\n",
            "860/860 [==============================] - 36s 41ms/step - loss: 0.2526 - accuracy: 0.9078 - val_loss: 0.2823 - val_accuracy: 0.8994\n",
            "Epoch 22/30\n",
            "860/860 [==============================] - 36s 42ms/step - loss: 0.2473 - accuracy: 0.9096 - val_loss: 0.2863 - val_accuracy: 0.8964\n",
            "Epoch 23/30\n",
            "860/860 [==============================] - 36s 42ms/step - loss: 0.2420 - accuracy: 0.9110 - val_loss: 0.2797 - val_accuracy: 0.9042\n",
            "Epoch 24/30\n",
            "860/860 [==============================] - 35s 41ms/step - loss: 0.2372 - accuracy: 0.9131 - val_loss: 0.3006 - val_accuracy: 0.8900\n",
            "Epoch 25/30\n",
            "860/860 [==============================] - 35s 41ms/step - loss: 0.2326 - accuracy: 0.9152 - val_loss: 0.2929 - val_accuracy: 0.8948\n",
            "Epoch 26/30\n",
            "860/860 [==============================] - 35s 41ms/step - loss: 0.2290 - accuracy: 0.9160 - val_loss: 0.2782 - val_accuracy: 0.9044\n",
            "Epoch 27/30\n",
            "860/860 [==============================] - 35s 41ms/step - loss: 0.2249 - accuracy: 0.9181 - val_loss: 0.2766 - val_accuracy: 0.8980\n",
            "Epoch 28/30\n",
            "860/860 [==============================] - 36s 41ms/step - loss: 0.2203 - accuracy: 0.9185 - val_loss: 0.3044 - val_accuracy: 0.8946\n",
            "Epoch 29/30\n",
            "860/860 [==============================] - 35s 41ms/step - loss: 0.2152 - accuracy: 0.9211 - val_loss: 0.2716 - val_accuracy: 0.9044\n",
            "Epoch 30/30\n",
            "860/860 [==============================] - 35s 41ms/step - loss: 0.2123 - accuracy: 0.9219 - val_loss: 0.2730 - val_accuracy: 0.9036\n"
          ],
          "name": "stdout"
        }
      ]
    },
    {
      "cell_type": "code",
      "metadata": {
        "colab": {
          "base_uri": "https://localhost:8080/",
          "height": 341
        },
        "id": "pHP7wmBebhLz",
        "outputId": "1702e29b-461c-4204-f6d1-81a8430e1f56"
      },
      "source": [
        "import pandas as pd\n",
        "\n",
        "pd.DataFrame(model_history.history).plot(figsize=(8,5))\n",
        "plt.grid(True)\n",
        "plt.gca().set_ylim(0,1)\n",
        "plt.show"
      ],
      "execution_count": 41,
      "outputs": [
        {
          "output_type": "execute_result",
          "data": {
            "text/plain": [
              "<function matplotlib.pyplot.show>"
            ]
          },
          "metadata": {
            "tags": []
          },
          "execution_count": 41
        },
        {
          "output_type": "display_data",
          "data": {
            "image/png": "[encoded data removed]",
            "text/plain": [
              "<Figure size 576x360 with 1 Axes>"
            ]
          },
          "metadata": {
            "tags": [],
            "needs_background": "light"
          }
        }
      ]
    },
    {
      "cell_type": "code",
      "metadata": {
        "colab": {
          "base_uri": "https://localhost:8080/"
        },
        "id": "nQtOrylahluL",
        "outputId": "de4ec14b-28b5-4530-ff4c-7ab3cd5cdcb3"
      },
      "source": [
        "ev = model.evaluate(X_test_n, y_test)"
      ],
      "execution_count": 44,
      "outputs": [
        {
          "output_type": "stream",
          "text": [
            "313/313 [==============================] - 3s 9ms/step - loss: 0.2840 - accuracy: 0.8979\n"
          ],
          "name": "stdout"
        }
      ]
    },
    {
      "cell_type": "code",
      "metadata": {
        "colab": {
          "base_uri": "https://localhost:8080/"
        },
        "id": "TxUkteNoh6mp",
        "outputId": "1271a86e-6851-4a1b-f14b-3b85e5a4beee"
      },
      "source": [
        "ev"
      ],
      "execution_count": 45,
      "outputs": [
        {
          "output_type": "execute_result",
          "data": {
            "text/plain": [
              "[0.28399085998535156, 0.8978999853134155]"
            ]
          },
          "metadata": {
            "tags": []
          },
          "execution_count": 45
        }
      ]
    },
    {
      "cell_type": "code",
      "metadata": {
        "id": "gxVNJ3ahh6qM"
      },
      "source": [
        "X_new = X_test[:3]"
      ],
      "execution_count": 46,
      "outputs": []
    },
    {
      "cell_type": "code",
      "metadata": {
        "colab": {
          "base_uri": "https://localhost:8080/"
        },
        "id": "074gumych6tW",
        "outputId": "66979660-2456-454e-d385-fbb8f78c5463"
      },
      "source": [
        "y_pred = model.predict_classes(X_new)\n",
        "y_pred"
      ],
      "execution_count": 47,
      "outputs": [
        {
          "output_type": "stream",
          "text": [
            "WARNING:tensorflow:From <ipython-input-47-81ace37e545f>:1: Sequential.predict_classes (from tensorflow.python.keras.engine.sequential) is deprecated and will be removed after 2021-01-01.\n",
            "Instructions for updating:\n",
            "Please use instead:* `np.argmax(model.predict(x), axis=-1)`,   if your model does multi-class classification   (e.g. if it uses a `softmax` last-layer activation).* `(model.predict(x) > 0.5).astype(\"int32\")`,   if your model does binary classification   (e.g. if it uses a `sigmoid` last-layer activation).\n"
          ],
          "name": "stdout"
        },
        {
          "output_type": "execute_result",
          "data": {
            "text/plain": [
              "array([9, 2, 1])"
            ]
          },
          "metadata": {
            "tags": []
          },
          "execution_count": 47
        }
      ]
    },
    {
      "cell_type": "code",
      "metadata": {
        "colab": {
          "base_uri": "https://localhost:8080/"
        },
        "id": "1D_TJRIGh6x7",
        "outputId": "164faac0-8477-4dab-9ddd-b3bb6b5523f3"
      },
      "source": [
        "y_test[:3]"
      ],
      "execution_count": 48,
      "outputs": [
        {
          "output_type": "execute_result",
          "data": {
            "text/plain": [
              "array([9, 2, 1], dtype=uint8)"
            ]
          },
          "metadata": {
            "tags": []
          },
          "execution_count": 48
        }
      ]
    },
    {
      "cell_type": "code",
      "metadata": {
        "colab": {
          "base_uri": "https://localhost:8080/",
          "height": 282
        },
        "id": "RJFtdiJkh60i",
        "outputId": "f6b21851-b6ba-41ac-c8f4-e0c749dd5a8b"
      },
      "source": [
        "print(plt.imshow(X_test[0].reshape((28,28))))"
      ],
      "execution_count": 49,
      "outputs": [
        {
          "output_type": "stream",
          "text": [
            "AxesImage(54,36;334.8x217.44)\n"
          ],
          "name": "stdout"
        },
        {
          "output_type": "display_data",
          "data": {
            "image/png": "[encoded data removed]",
            "text/plain": [
              "<Figure size 432x288 with 1 Axes>"
            ]
          },
          "metadata": {
            "tags": [],
            "needs_background": "light"
          }
        }
      ]
    },
    {
      "cell_type": "markdown",
      "metadata": {
        "id": "Q2v4OoiosYET"
      },
      "source": [
        "As it can be seen, this model correctly predicting the class of image on new data. "
      ]
    }
  ]
}