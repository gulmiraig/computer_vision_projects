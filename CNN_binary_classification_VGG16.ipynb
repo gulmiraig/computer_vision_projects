{
  "nbformat": 4,
  "nbformat_minor": 0,
  "metadata": {
    "colab": {
      "name": "CNN_binary_classification_VGG16.ipynb",
      "provenance": [],
      "collapsed_sections": []
    },
    "kernelspec": {
      "name": "python3",
      "display_name": "Python 3"
    }
  },
  "cells": [
    {
      "cell_type": "markdown",
      "metadata": {
        "id": "WFpHyDNUol_w"
      },
      "source": [
        "- Binary classification problem: dog and cat \n",
        "- Colored images \n",
        "- Convolutional Neural Networks were used with MaxPooling and Dropout layer\n",
        "- Training without and with Data Augmentation (rotation, width_shift, height_shift, shear and zoom) for avoiding overfitting\n",
        "- VGG16 pre-trained model architecture was used to further improve validation accuracy\n",
        "- For training 2000 images was used\n",
        "- For validation 1000 images was used \n",
        "- For test 1000 images was used  "
      ]
    },
    {
      "cell_type": "code",
      "metadata": {
        "id": "H80RwHhHSY_u",
        "colab": {
          "base_uri": "https://localhost:8080/"
        },
        "outputId": "0d24273c-39bf-4b26-ee98-86fdf262cc4f"
      },
      "source": [
        "from google.colab import drive\n",
        "drive.mount('/content/drive')"
      ],
      "execution_count": 1,
      "outputs": [
        {
          "output_type": "stream",
          "text": [
            "Drive already mounted at /content/drive; to attempt to forcibly remount, call drive.mount(\"/content/drive\", force_remount=True).\n"
          ],
          "name": "stdout"
        }
      ]
    },
    {
      "cell_type": "code",
      "metadata": {
        "id": "G8gPrFVpozEx"
      },
      "source": [
        "import numpy as np\n",
        "import pandas as pd\n",
        "%matplotlib inline  \n",
        "import matplotlib as mpl\n",
        "import matplotlib.pyplot as plt\n",
        "import os"
      ],
      "execution_count": 3,
      "outputs": []
    },
    {
      "cell_type": "code",
      "metadata": {
        "id": "vD0AwMNYo2dZ"
      },
      "source": [
        "import tensorflow as tf\n",
        "from tensorflow import keras  "
      ],
      "execution_count": 4,
      "outputs": []
    },
    {
      "cell_type": "code",
      "metadata": {
        "id": "bCBCsG0no2Yw"
      },
      "source": [
        "train_dir = '/content/drive/MyDrive/cats_and_dogs_small.zip (Unzipped Files)/train'\n",
        "validation_dir = '/content/drive/MyDrive/cats_and_dogs_small.zip (Unzipped Files)/validation'\n",
        "test_dir = '/content/drive/MyDrive/cats_and_dogs_small.zip (Unzipped Files)/test'\n",
        "\n"
      ],
      "execution_count": 5,
      "outputs": []
    },
    {
      "cell_type": "markdown",
      "metadata": {
        "id": "xz9lvlqfx7K-"
      },
      "source": [
        "## *Data Preprocessing*"
      ]
    },
    {
      "cell_type": "markdown",
      "metadata": {
        "id": "cccRmNjxyFpw"
      },
      "source": [
        "- Read the picture file\n",
        "- Decode the JPEG content to RGB grids of pixels \n",
        "- Convert these into floating point tensors\n",
        "- Rescale the pixel values (between 0 and 255)to the [0, 1] interval  "
      ]
    },
    {
      "cell_type": "code",
      "metadata": {
        "id": "l0veBldZo2Rm"
      },
      "source": [
        "from tensorflow.keras.preprocessing.image import ImageDataGenerator"
      ],
      "execution_count": 6,
      "outputs": []
    },
    {
      "cell_type": "code",
      "metadata": {
        "id": "X0baQbJso2OH",
        "colab": {
          "base_uri": "https://localhost:8080/"
        },
        "outputId": "d1a6640d-aed2-445c-b8a6-b681775b4d50"
      },
      "source": [
        "#Generating batches of tensor image data\n",
        "train_datagen = ImageDataGenerator(rescale=1./255)\n",
        "test_datagen = ImageDataGenerator(rescale=1./255)\n",
        "\n",
        "\n",
        "train_generator = train_datagen.flow_from_directory(\n",
        "    train_dir,\n",
        "    target_size=(150, 150),\n",
        "    batch_size = 20,\n",
        "    class_mode = 'binary')\n",
        "\n",
        "validation_generator = test_datagen.flow_from_directory(\n",
        "    validation_dir,\n",
        "    target_size=(150,150),\n",
        "    batch_size=20,\n",
        "    class_mode='binary')"
      ],
      "execution_count": 7,
      "outputs": [
        {
          "output_type": "stream",
          "text": [
            "Found 2000 images belonging to 2 classes.\n",
            "Found 1000 images belonging to 2 classes.\n"
          ],
          "name": "stdout"
        }
      ]
    },
    {
      "cell_type": "code",
      "metadata": {
        "id": "hbnAPMm6o2Kf"
      },
      "source": [
        "from tensorflow.keras import layers\n",
        "from tensorflow.keras import models"
      ],
      "execution_count": 8,
      "outputs": []
    },
    {
      "cell_type": "code",
      "metadata": {
        "id": "S64OabZuBMp8"
      },
      "source": [
        "model = models.Sequential()\n",
        "\n",
        "model.add(layers.Conv2D(32, (3,3), activation='relu', input_shape=(150,150,3)))\n",
        "model.add(layers.MaxPooling2D((2,2)))\n",
        "\n",
        "model.add(layers.Conv2D(64, (3,3), activation='relu' ))\n",
        "model.add(layers.MaxPooling2D((2,2)))\n",
        "\n",
        "model.add(layers.Conv2D(128, (3,3), activation='relu' ))\n",
        "model.add(layers.MaxPooling2D((2,2)))\n",
        "\n",
        "model.add(layers.Conv2D(128, (3,3), activation='relu' ))\n",
        "model.add(layers.MaxPooling2D((2,2)))\n",
        "\n",
        "model.add(layers.Flatten())\n",
        "\n",
        "model.add(layers.Dense(512, activation='relu'))\n",
        "\n",
        "model.add(layers.Dense(1, activation='sigmoid'))\n",
        "\n"
      ],
      "execution_count": 9,
      "outputs": []
    },
    {
      "cell_type": "code",
      "metadata": {
        "colab": {
          "base_uri": "https://localhost:8080/"
        },
        "id": "C3nR-_ocDh5D",
        "outputId": "7ed7e6d9-fd68-4939-ed19-638cce115801"
      },
      "source": [
        "model.summary()"
      ],
      "execution_count": 9,
      "outputs": [
        {
          "output_type": "stream",
          "text": [
            "Model: \"sequential\"\n",
            "_________________________________________________________________\n",
            "Layer (type)                 Output Shape              Param #   \n",
            "=================================================================\n",
            "conv2d (Conv2D)              (None, 148, 148, 32)      896       \n",
            "_________________________________________________________________\n",
            "max_pooling2d (MaxPooling2D) (None, 74, 74, 32)        0         \n",
            "_________________________________________________________________\n",
            "conv2d_1 (Conv2D)            (None, 72, 72, 64)        18496     \n",
            "_________________________________________________________________\n",
            "max_pooling2d_1 (MaxPooling2 (None, 36, 36, 64)        0         \n",
            "_________________________________________________________________\n",
            "conv2d_2 (Conv2D)            (None, 34, 34, 128)       73856     \n",
            "_________________________________________________________________\n",
            "max_pooling2d_2 (MaxPooling2 (None, 17, 17, 128)       0         \n",
            "_________________________________________________________________\n",
            "conv2d_3 (Conv2D)            (None, 15, 15, 128)       147584    \n",
            "_________________________________________________________________\n",
            "max_pooling2d_3 (MaxPooling2 (None, 7, 7, 128)         0         \n",
            "_________________________________________________________________\n",
            "flatten (Flatten)            (None, 6272)              0         \n",
            "_________________________________________________________________\n",
            "dense (Dense)                (None, 512)               3211776   \n",
            "_________________________________________________________________\n",
            "dense_1 (Dense)              (None, 1)                 513       \n",
            "=================================================================\n",
            "Total params: 3,453,121\n",
            "Trainable params: 3,453,121\n",
            "Non-trainable params: 0\n",
            "_________________________________________________________________\n"
          ],
          "name": "stdout"
        }
      ]
    },
    {
      "cell_type": "code",
      "metadata": {
        "id": "xBK7FVSiDo4I"
      },
      "source": [
        "from tensorflow.keras import optimizers\n",
        "\n",
        "model.compile(loss='binary_crossentropy', optimizer=optimizers.RMSprop(lr=1e-4), metrics=['acc'])"
      ],
      "execution_count": 10,
      "outputs": []
    },
    {
      "cell_type": "code",
      "metadata": {
        "colab": {
          "base_uri": "https://localhost:8080/"
        },
        "id": "sLnoe9o8EOGT",
        "outputId": "2c24edb3-2bef-423b-ee97-a24d3cec4d2c"
      },
      "source": [
        "history = model.fit(\n",
        "         train_generator,\n",
        "         steps_per_epoch=100,\n",
        "         epochs=20,\n",
        "         validation_data=validation_generator,\n",
        "         validation_steps=50)"
      ],
      "execution_count": 11,
      "outputs": [
        {
          "output_type": "stream",
          "text": [
            "Epoch 1/20\n",
            "100/100 [==============================] - 1081s 11s/step - loss: 0.6971 - acc: 0.5011 - val_loss: 0.6702 - val_acc: 0.5720\n",
            "Epoch 2/20\n",
            "100/100 [==============================] - 106s 1s/step - loss: 0.6594 - acc: 0.6004 - val_loss: 0.6488 - val_acc: 0.5970\n",
            "Epoch 3/20\n",
            "100/100 [==============================] - 106s 1s/step - loss: 0.6162 - acc: 0.6656 - val_loss: 0.6142 - val_acc: 0.6440\n",
            "Epoch 4/20\n",
            "100/100 [==============================] - 106s 1s/step - loss: 0.5607 - acc: 0.7108 - val_loss: 0.6284 - val_acc: 0.6550\n",
            "Epoch 5/20\n",
            "100/100 [==============================] - 108s 1s/step - loss: 0.5348 - acc: 0.7260 - val_loss: 0.5954 - val_acc: 0.6770\n",
            "Epoch 6/20\n",
            "100/100 [==============================] - 105s 1s/step - loss: 0.4967 - acc: 0.7629 - val_loss: 0.5754 - val_acc: 0.6950\n",
            "Epoch 7/20\n",
            "100/100 [==============================] - 107s 1s/step - loss: 0.4605 - acc: 0.7808 - val_loss: 0.5947 - val_acc: 0.6890\n",
            "Epoch 8/20\n",
            "100/100 [==============================] - 107s 1s/step - loss: 0.4465 - acc: 0.7840 - val_loss: 0.5496 - val_acc: 0.7190\n",
            "Epoch 9/20\n",
            "100/100 [==============================] - 105s 1s/step - loss: 0.4273 - acc: 0.8023 - val_loss: 0.5600 - val_acc: 0.7250\n",
            "Epoch 10/20\n",
            "100/100 [==============================] - 106s 1s/step - loss: 0.3891 - acc: 0.8354 - val_loss: 0.5983 - val_acc: 0.7080\n",
            "Epoch 11/20\n",
            "100/100 [==============================] - 107s 1s/step - loss: 0.3788 - acc: 0.8346 - val_loss: 0.5651 - val_acc: 0.7380\n",
            "Epoch 12/20\n",
            "100/100 [==============================] - 105s 1s/step - loss: 0.3336 - acc: 0.8532 - val_loss: 0.6283 - val_acc: 0.7250\n",
            "Epoch 13/20\n",
            "100/100 [==============================] - 106s 1s/step - loss: 0.3185 - acc: 0.8595 - val_loss: 0.6854 - val_acc: 0.7020\n",
            "Epoch 14/20\n",
            "100/100 [==============================] - 108s 1s/step - loss: 0.2880 - acc: 0.8782 - val_loss: 0.6560 - val_acc: 0.7080\n",
            "Epoch 15/20\n",
            "100/100 [==============================] - 108s 1s/step - loss: 0.2595 - acc: 0.8960 - val_loss: 0.7023 - val_acc: 0.7090\n",
            "Epoch 16/20\n",
            "100/100 [==============================] - 109s 1s/step - loss: 0.2372 - acc: 0.9005 - val_loss: 0.6539 - val_acc: 0.7350\n",
            "Epoch 17/20\n",
            "100/100 [==============================] - 107s 1s/step - loss: 0.2332 - acc: 0.9037 - val_loss: 0.6635 - val_acc: 0.7290\n",
            "Epoch 18/20\n",
            "100/100 [==============================] - 109s 1s/step - loss: 0.2057 - acc: 0.9243 - val_loss: 0.6123 - val_acc: 0.7360\n",
            "Epoch 19/20\n",
            "100/100 [==============================] - 108s 1s/step - loss: 0.1525 - acc: 0.9516 - val_loss: 0.6317 - val_acc: 0.7430\n",
            "Epoch 20/20\n",
            "100/100 [==============================] - 107s 1s/step - loss: 0.1517 - acc: 0.9400 - val_loss: 0.6667 - val_acc: 0.7370\n"
          ],
          "name": "stdout"
        }
      ]
    },
    {
      "cell_type": "code",
      "metadata": {
        "id": "4L6v54qwPCVA"
      },
      "source": [
        ""
      ],
      "execution_count": 11,
      "outputs": []
    },
    {
      "cell_type": "code",
      "metadata": {
        "id": "22wZjEzpE9iV",
        "colab": {
          "base_uri": "https://localhost:8080/",
          "height": 341
        },
        "outputId": "63ac213c-6e25-4d95-d9a3-2f4783930462"
      },
      "source": [
        "import pandas as pd\n",
        "\n",
        "pd.DataFrame(history.history).plot(figsize=(8,5))\n",
        "plt.grid(True)\n",
        "plt.gca().set_ylim(0,1)\n",
        "plt.show"
      ],
      "execution_count": 12,
      "outputs": [
        {
          "output_type": "execute_result",
          "data": {
            "text/plain": [
              "<function matplotlib.pyplot.show>"
            ]
          },
          "metadata": {
            "tags": []
          },
          "execution_count": 12
        },
        {
          "output_type": "display_data",
          "data": {
            "image/png": "[encoded data removed]",
            "text/plain": [
              "<Figure size 576x360 with 1 Axes>"
            ]
          },
          "metadata": {
            "tags": [],
            "needs_background": "light"
          }
        }
      ]
    },
    {
      "cell_type": "markdown",
      "metadata": {
        "id": "xVY-M29-7aI8"
      },
      "source": [
        "From this model, validation accuracy gets to 75% while accuracy on training about 94% where such large difference in accuracy suggests overfitting in the model. "
      ]
    },
    {
      "cell_type": "code",
      "metadata": {
        "id": "-M_iImFPyJwB"
      },
      "source": [
        "model.save(\"model.h5\")"
      ],
      "execution_count": 13,
      "outputs": []
    },
    {
      "cell_type": "code",
      "metadata": {
        "id": "O9sYsfCwec5z"
      },
      "source": [
        "from tensorflow.keras import backend as K\n",
        "\n",
        "K.clear_session()\n",
        "del model"
      ],
      "execution_count": 14,
      "outputs": []
    },
    {
      "cell_type": "markdown",
      "metadata": {
        "id": "jqiKLqa1fatH"
      },
      "source": [
        "## *Data Augmentation for avoiding overfitting*"
      ]
    },
    {
      "cell_type": "code",
      "metadata": {
        "id": "6XEihEFnec_p",
        "colab": {
          "base_uri": "https://localhost:8080/"
        },
        "outputId": "ffa35d92-b6c9-4aa0-9e78-c259b42c8257"
      },
      "source": [
        "train_datagen = ImageDataGenerator(\n",
        "    rescale = 1./255,\n",
        "    rotation_range = 40,\n",
        "    width_shift_range = 0.2,\n",
        "    height_shift_range = 0.2,\n",
        "    shear_range = 0.2,\n",
        "    zoom_range = 0.2,\n",
        "    horizontal_flip = True,)\n",
        "\n",
        "test_datagen = ImageDataGenerator(rescale = 1./255)\n",
        "\n",
        "train_generator = train_datagen.flow_from_directory(\n",
        "    train_dir,\n",
        "    target_size = (150,150),\n",
        "    batch_size = 32,\n",
        "    class_mode = 'binary'\n",
        ")\n",
        "\n",
        "validation_generator = test_datagen.flow_from_directory(\n",
        "    validation_dir,\n",
        "    target_size = (150,150),\n",
        "    batch_size = 20, \n",
        "    class_mode = 'binary'\n",
        ")"
      ],
      "execution_count": 15,
      "outputs": [
        {
          "output_type": "stream",
          "text": [
            "Found 2000 images belonging to 2 classes.\n",
            "Found 1000 images belonging to 2 classes.\n"
          ],
          "name": "stdout"
        }
      ]
    },
    {
      "cell_type": "code",
      "metadata": {
        "id": "K63KY4VNedEA"
      },
      "source": [
        "from tensorflow.keras import optimizers\n",
        "\n",
        "model = models.Sequential()\n",
        "model.add(layers.Conv2D(32, (3,3), activation='relu', input_shape=(150,150,3))) \n",
        "\n",
        "model.add(layers.MaxPooling2D((2,2)))\n",
        "model.add(layers.Conv2D(64, (3,3), activation = 'relu'))\n",
        "model.add(layers.MaxPooling2D((2,2)))\n",
        "model.add(layers.Conv2D(128, (3,3), activation = 'relu'))\n",
        "model.add(layers.MaxPooling2D((2,2)))\n",
        "model.add(layers.Conv2D(128, (3,3), activation = 'relu'))\n",
        "model.add(layers.MaxPooling2D((2,2)))\n",
        "model.add(layers.Flatten())\n",
        "model.add(layers.Dropout(0.5))\n",
        "model.add(layers.Dense(512, activation = 'relu'))\n",
        "model.add(layers.Dense(1, activation = 'sigmoid'))    \n",
        "\n",
        "\n",
        "model.compile(loss='binary_crossentropy', optimizer=optimizers.RMSprop(lr=1e-4), metrics=['acc'])"
      ],
      "execution_count": 16,
      "outputs": []
    },
    {
      "cell_type": "code",
      "metadata": {
        "colab": {
          "base_uri": "https://localhost:8080/"
        },
        "id": "hb4nctiJ34uo",
        "outputId": "a3c375c7-6d90-4a88-db23-424d71e1cc19"
      },
      "source": [
        "history = model.fit_generator(\n",
        "         train_generator,\n",
        "         steps_per_epoch=62,\n",
        "         epochs=20,\n",
        "         validation_data=validation_generator,\n",
        "         validation_steps=50) "
      ],
      "execution_count": 17,
      "outputs": [
        {
          "output_type": "stream",
          "text": [
            "/usr/local/lib/python3.6/dist-packages/tensorflow/python/keras/engine/training.py:1844: UserWarning: `Model.fit_generator` is deprecated and will be removed in a future version. Please use `Model.fit`, which supports generators.\n",
            "  warnings.warn('`Model.fit_generator` is deprecated and '\n"
          ],
          "name": "stderr"
        },
        {
          "output_type": "stream",
          "text": [
            "Epoch 1/100\n",
            "62/62 [==============================] - 114s 2s/step - loss: 0.7003 - acc: 0.5416 - val_loss: 0.6943 - val_acc: 0.5000\n",
            "Epoch 2/100\n",
            "62/62 [==============================] - 112s 2s/step - loss: 0.6860 - acc: 0.5415 - val_loss: 0.6773 - val_acc: 0.5920\n",
            "Epoch 3/100\n",
            "62/62 [==============================] - 112s 2s/step - loss: 0.6821 - acc: 0.5669 - val_loss: 0.7037 - val_acc: 0.5040\n",
            "Epoch 4/100\n",
            "62/62 [==============================] - 113s 2s/step - loss: 0.6789 - acc: 0.5788 - val_loss: 0.6468 - val_acc: 0.6110\n",
            "Epoch 5/100\n",
            "62/62 [==============================] - 112s 2s/step - loss: 0.6680 - acc: 0.5972 - val_loss: 0.6371 - val_acc: 0.6280\n",
            "Epoch 6/100\n",
            "62/62 [==============================] - 112s 2s/step - loss: 0.6635 - acc: 0.5872 - val_loss: 0.6292 - val_acc: 0.6330\n",
            "Epoch 7/100\n",
            "62/62 [==============================] - 112s 2s/step - loss: 0.6455 - acc: 0.6189 - val_loss: 0.6259 - val_acc: 0.6470\n",
            "Epoch 8/100\n",
            "62/62 [==============================] - 112s 2s/step - loss: 0.6340 - acc: 0.6443 - val_loss: 0.6108 - val_acc: 0.6590\n",
            "Epoch 9/100\n",
            "62/62 [==============================] - 111s 2s/step - loss: 0.6190 - acc: 0.6739 - val_loss: 0.6101 - val_acc: 0.6530\n",
            "Epoch 10/100\n",
            "62/62 [==============================] - 111s 2s/step - loss: 0.6179 - acc: 0.6543 - val_loss: 0.5947 - val_acc: 0.6680\n",
            "Epoch 11/100\n",
            "62/62 [==============================] - 113s 2s/step - loss: 0.5999 - acc: 0.6636 - val_loss: 0.5932 - val_acc: 0.6720\n",
            "Epoch 12/100\n",
            "62/62 [==============================] - 112s 2s/step - loss: 0.6128 - acc: 0.6733 - val_loss: 0.5662 - val_acc: 0.6960\n",
            "Epoch 13/100\n",
            "62/62 [==============================] - 114s 2s/step - loss: 0.6137 - acc: 0.6593 - val_loss: 0.5691 - val_acc: 0.6970\n",
            "Epoch 14/100\n",
            "62/62 [==============================] - 114s 2s/step - loss: 0.5845 - acc: 0.6993 - val_loss: 0.5519 - val_acc: 0.7210\n",
            "Epoch 15/100\n",
            "62/62 [==============================] - 112s 2s/step - loss: 0.5677 - acc: 0.7007 - val_loss: 0.5754 - val_acc: 0.6810\n",
            "Epoch 16/100\n",
            "62/62 [==============================] - 113s 2s/step - loss: 0.5799 - acc: 0.6871 - val_loss: 0.5742 - val_acc: 0.6650\n",
            "Epoch 17/100\n",
            "62/62 [==============================] - 114s 2s/step - loss: 0.5859 - acc: 0.6961 - val_loss: 0.5379 - val_acc: 0.7150\n",
            "Epoch 18/100\n",
            "62/62 [==============================] - 112s 2s/step - loss: 0.5861 - acc: 0.6774 - val_loss: 0.5485 - val_acc: 0.7090\n",
            "Epoch 19/100\n",
            "62/62 [==============================] - 113s 2s/step - loss: 0.5668 - acc: 0.7108 - val_loss: 0.6219 - val_acc: 0.6610\n",
            "Epoch 20/100\n",
            "62/62 [==============================] - 112s 2s/step - loss: 0.5618 - acc: 0.7021 - val_loss: 0.5156 - val_acc: 0.7390\n",
            "Epoch 21/100\n",
            "62/62 [==============================] - 113s 2s/step - loss: 0.5591 - acc: 0.7067 - val_loss: 0.5827 - val_acc: 0.7080\n",
            "Epoch 22/100\n",
            "62/62 [==============================] - 115s 2s/step - loss: 0.5720 - acc: 0.7023 - val_loss: 0.6504 - val_acc: 0.6390\n",
            "Epoch 23/100\n",
            "62/62 [==============================] - 112s 2s/step - loss: 0.5786 - acc: 0.7034 - val_loss: 0.5608 - val_acc: 0.7190\n",
            "Epoch 24/100\n",
            "62/62 [==============================] - 115s 2s/step - loss: 0.5498 - acc: 0.7248 - val_loss: 0.5339 - val_acc: 0.7260\n",
            "Epoch 25/100\n",
            "62/62 [==============================] - 116s 2s/step - loss: 0.5318 - acc: 0.7319 - val_loss: 0.5223 - val_acc: 0.7310\n",
            "Epoch 26/100\n",
            "62/62 [==============================] - 113s 2s/step - loss: 0.5453 - acc: 0.7292 - val_loss: 0.5085 - val_acc: 0.7340\n",
            "Epoch 27/100\n",
            "62/62 [==============================] - 112s 2s/step - loss: 0.5500 - acc: 0.7136 - val_loss: 0.5329 - val_acc: 0.7180\n",
            "Epoch 28/100\n",
            "62/62 [==============================] - 113s 2s/step - loss: 0.5255 - acc: 0.7261 - val_loss: 0.6630 - val_acc: 0.6350\n",
            "Epoch 29/100\n",
            "62/62 [==============================] - 114s 2s/step - loss: 0.5475 - acc: 0.7144 - val_loss: 0.5167 - val_acc: 0.7370\n",
            "Epoch 30/100\n",
            "62/62 [==============================] - 120s 2s/step - loss: 0.5368 - acc: 0.7381 - val_loss: 0.5854 - val_acc: 0.7060\n",
            "Epoch 31/100\n",
            "62/62 [==============================] - 113s 2s/step - loss: 0.5285 - acc: 0.7383 - val_loss: 0.4839 - val_acc: 0.7540\n",
            "Epoch 32/100\n",
            "62/62 [==============================] - 115s 2s/step - loss: 0.4976 - acc: 0.7500 - val_loss: 0.4878 - val_acc: 0.7580\n",
            "Epoch 33/100\n",
            "62/62 [==============================] - 116s 2s/step - loss: 0.5183 - acc: 0.7461 - val_loss: 0.6085 - val_acc: 0.6850\n",
            "Epoch 34/100\n",
            "62/62 [==============================] - 115s 2s/step - loss: 0.5263 - acc: 0.7384 - val_loss: 0.4892 - val_acc: 0.7620\n",
            "Epoch 35/100\n",
            "62/62 [==============================] - 113s 2s/step - loss: 0.5133 - acc: 0.7474 - val_loss: 0.4873 - val_acc: 0.7530\n",
            "Epoch 36/100\n",
            "62/62 [==============================] - 113s 2s/step - loss: 0.5227 - acc: 0.7391 - val_loss: 0.5025 - val_acc: 0.7570\n",
            "Epoch 37/100\n",
            "62/62 [==============================] - 113s 2s/step - loss: 0.5202 - acc: 0.7265 - val_loss: 0.4764 - val_acc: 0.7620\n",
            "Epoch 38/100\n",
            "62/62 [==============================] - 115s 2s/step - loss: 0.5045 - acc: 0.7378 - val_loss: 0.4717 - val_acc: 0.7650\n",
            "Epoch 39/100\n",
            "62/62 [==============================] - 113s 2s/step - loss: 0.5028 - acc: 0.7414 - val_loss: 0.5032 - val_acc: 0.7320\n",
            "Epoch 40/100\n",
            "62/62 [==============================] - 113s 2s/step - loss: 0.5270 - acc: 0.7318 - val_loss: 0.4802 - val_acc: 0.7590\n",
            "Epoch 41/100\n",
            "62/62 [==============================] - 114s 2s/step - loss: 0.5015 - acc: 0.7645 - val_loss: 0.4686 - val_acc: 0.7560\n",
            "Epoch 42/100\n",
            "62/62 [==============================] - 113s 2s/step - loss: 0.5070 - acc: 0.7341 - val_loss: 0.5031 - val_acc: 0.7490\n",
            "Epoch 43/100\n",
            "62/62 [==============================] - 114s 2s/step - loss: 0.5160 - acc: 0.7297 - val_loss: 0.5091 - val_acc: 0.7520\n",
            "Epoch 44/100\n",
            "62/62 [==============================] - 112s 2s/step - loss: 0.5079 - acc: 0.7493 - val_loss: 0.4697 - val_acc: 0.7700\n",
            "Epoch 45/100\n",
            "62/62 [==============================] - 113s 2s/step - loss: 0.4766 - acc: 0.7704 - val_loss: 0.4947 - val_acc: 0.7510\n",
            "Epoch 46/100\n",
            "62/62 [==============================] - 115s 2s/step - loss: 0.4941 - acc: 0.7546 - val_loss: 0.5264 - val_acc: 0.7410\n",
            "Epoch 47/100\n",
            "62/62 [==============================] - 114s 2s/step - loss: 0.4969 - acc: 0.7445 - val_loss: 0.5307 - val_acc: 0.7500\n",
            "Epoch 48/100\n",
            "62/62 [==============================] - 113s 2s/step - loss: 0.4922 - acc: 0.7616 - val_loss: 0.4688 - val_acc: 0.7700\n",
            "Epoch 49/100\n",
            "62/62 [==============================] - 111s 2s/step - loss: 0.5027 - acc: 0.7463 - val_loss: 0.4824 - val_acc: 0.7680\n",
            "Epoch 50/100\n",
            "62/62 [==============================] - 113s 2s/step - loss: 0.4934 - acc: 0.7446 - val_loss: 0.4578 - val_acc: 0.7820\n",
            "Epoch 51/100\n",
            "62/62 [==============================] - 116s 2s/step - loss: 0.5047 - acc: 0.7548 - val_loss: 0.4687 - val_acc: 0.7720\n",
            "Epoch 52/100\n",
            "62/62 [==============================] - 113s 2s/step - loss: 0.4947 - acc: 0.7592 - val_loss: 0.5186 - val_acc: 0.7300\n",
            "Epoch 53/100\n",
            "62/62 [==============================] - 111s 2s/step - loss: 0.4872 - acc: 0.7532 - val_loss: 0.4529 - val_acc: 0.7740\n",
            "Epoch 54/100\n",
            "62/62 [==============================] - 112s 2s/step - loss: 0.4753 - acc: 0.7633 - val_loss: 0.4754 - val_acc: 0.7750\n",
            "Epoch 55/100\n",
            "62/62 [==============================] - 112s 2s/step - loss: 0.4561 - acc: 0.7894 - val_loss: 0.4758 - val_acc: 0.7750\n",
            "Epoch 56/100\n",
            "62/62 [==============================] - 112s 2s/step - loss: 0.4669 - acc: 0.7748 - val_loss: 0.4575 - val_acc: 0.7810\n",
            "Epoch 57/100\n",
            "62/62 [==============================] - 114s 2s/step - loss: 0.4858 - acc: 0.7614 - val_loss: 0.4471 - val_acc: 0.7750\n",
            "Epoch 58/100\n",
            "62/62 [==============================] - 115s 2s/step - loss: 0.4494 - acc: 0.7773 - val_loss: 0.4588 - val_acc: 0.7800\n",
            "Epoch 59/100\n",
            "62/62 [==============================] - 115s 2s/step - loss: 0.4538 - acc: 0.7723 - val_loss: 0.4484 - val_acc: 0.7750\n",
            "Epoch 60/100\n",
            "62/62 [==============================] - 112s 2s/step - loss: 0.4491 - acc: 0.7859 - val_loss: 0.4701 - val_acc: 0.7690\n",
            "Epoch 61/100\n",
            "62/62 [==============================] - 111s 2s/step - loss: 0.4468 - acc: 0.7901 - val_loss: 0.4541 - val_acc: 0.7830\n",
            "Epoch 62/100\n",
            "62/62 [==============================] - 116s 2s/step - loss: 0.4444 - acc: 0.8028 - val_loss: 0.4713 - val_acc: 0.7780\n",
            "Epoch 63/100\n",
            "62/62 [==============================] - 112s 2s/step - loss: 0.4465 - acc: 0.7881 - val_loss: 0.4977 - val_acc: 0.7630\n",
            "Epoch 64/100\n",
            "62/62 [==============================] - 112s 2s/step - loss: 0.4588 - acc: 0.7814 - val_loss: 0.5668 - val_acc: 0.7170\n",
            "Epoch 65/100\n",
            "62/62 [==============================] - 111s 2s/step - loss: 0.4544 - acc: 0.7804 - val_loss: 0.4770 - val_acc: 0.7670\n",
            "Epoch 66/100\n",
            "62/62 [==============================] - 114s 2s/step - loss: 0.4584 - acc: 0.7859 - val_loss: 0.4205 - val_acc: 0.7950\n",
            "Epoch 67/100\n",
            "62/62 [==============================] - 112s 2s/step - loss: 0.4379 - acc: 0.7897 - val_loss: 0.4186 - val_acc: 0.8010\n",
            "Epoch 68/100\n",
            "62/62 [==============================] - 113s 2s/step - loss: 0.4597 - acc: 0.7876 - val_loss: 0.4501 - val_acc: 0.7880\n",
            "Epoch 69/100\n",
            "62/62 [==============================] - 113s 2s/step - loss: 0.4376 - acc: 0.7994 - val_loss: 0.5383 - val_acc: 0.7440\n",
            "Epoch 70/100\n",
            "62/62 [==============================] - 113s 2s/step - loss: 0.4524 - acc: 0.8008 - val_loss: 0.4421 - val_acc: 0.8000\n",
            "Epoch 71/100\n",
            "62/62 [==============================] - 114s 2s/step - loss: 0.4501 - acc: 0.7901 - val_loss: 0.5055 - val_acc: 0.7730\n",
            "Epoch 72/100\n",
            "62/62 [==============================] - 113s 2s/step - loss: 0.4241 - acc: 0.8153 - val_loss: 0.5174 - val_acc: 0.7650\n",
            "Epoch 73/100\n",
            "62/62 [==============================] - 113s 2s/step - loss: 0.4597 - acc: 0.7756 - val_loss: 0.4163 - val_acc: 0.8050\n",
            "Epoch 74/100\n",
            "62/62 [==============================] - 112s 2s/step - loss: 0.4423 - acc: 0.7926 - val_loss: 0.4532 - val_acc: 0.7880\n",
            "Epoch 75/100\n",
            "62/62 [==============================] - 113s 2s/step - loss: 0.4452 - acc: 0.7815 - val_loss: 0.4566 - val_acc: 0.7730\n",
            "Epoch 76/100\n",
            "62/62 [==============================] - 114s 2s/step - loss: 0.4477 - acc: 0.7785 - val_loss: 0.4349 - val_acc: 0.8030\n",
            "Epoch 77/100\n",
            "62/62 [==============================] - 111s 2s/step - loss: 0.4263 - acc: 0.8121 - val_loss: 0.4652 - val_acc: 0.7780\n",
            "Epoch 78/100\n",
            "62/62 [==============================] - 113s 2s/step - loss: 0.4223 - acc: 0.7990 - val_loss: 0.4300 - val_acc: 0.7960\n",
            "Epoch 79/100\n",
            "62/62 [==============================] - 114s 2s/step - loss: 0.4293 - acc: 0.8142 - val_loss: 0.4106 - val_acc: 0.8150\n",
            "Epoch 80/100\n",
            "62/62 [==============================] - 114s 2s/step - loss: 0.4316 - acc: 0.7955 - val_loss: 0.4782 - val_acc: 0.7690\n",
            "Epoch 81/100\n",
            "62/62 [==============================] - 114s 2s/step - loss: 0.4276 - acc: 0.8022 - val_loss: 0.4262 - val_acc: 0.8020\n",
            "Epoch 82/100\n",
            "62/62 [==============================] - 113s 2s/step - loss: 0.4331 - acc: 0.8001 - val_loss: 0.4586 - val_acc: 0.7850\n",
            "Epoch 83/100\n",
            "62/62 [==============================] - 115s 2s/step - loss: 0.4249 - acc: 0.7961 - val_loss: 0.4441 - val_acc: 0.7950\n",
            "Epoch 84/100\n",
            "62/62 [==============================] - 113s 2s/step - loss: 0.4166 - acc: 0.8129 - val_loss: 0.4557 - val_acc: 0.7810\n",
            "Epoch 85/100\n",
            "62/62 [==============================] - 113s 2s/step - loss: 0.4075 - acc: 0.8057 - val_loss: 0.4425 - val_acc: 0.7980\n",
            "Epoch 86/100\n",
            "62/62 [==============================] - 113s 2s/step - loss: 0.4131 - acc: 0.8040 - val_loss: 0.5241 - val_acc: 0.7290\n",
            "Epoch 87/100\n",
            "62/62 [==============================] - 114s 2s/step - loss: 0.4269 - acc: 0.8214 - val_loss: 0.4617 - val_acc: 0.7800\n",
            "Epoch 88/100\n",
            "62/62 [==============================] - 114s 2s/step - loss: 0.4140 - acc: 0.8150 - val_loss: 0.4197 - val_acc: 0.8020\n",
            "Epoch 89/100\n",
            "62/62 [==============================] - 114s 2s/step - loss: 0.4143 - acc: 0.8133 - val_loss: 0.4347 - val_acc: 0.7910\n",
            "Epoch 90/100\n",
            "62/62 [==============================] - 113s 2s/step - loss: 0.3987 - acc: 0.8248 - val_loss: 0.4484 - val_acc: 0.7880\n",
            "Epoch 91/100\n",
            "62/62 [==============================] - 113s 2s/step - loss: 0.4453 - acc: 0.7936 - val_loss: 0.4256 - val_acc: 0.8060\n",
            "Epoch 92/100\n",
            "62/62 [==============================] - 113s 2s/step - loss: 0.4238 - acc: 0.8018 - val_loss: 0.4202 - val_acc: 0.8020\n",
            "Epoch 93/100\n",
            "62/62 [==============================] - 119s 2s/step - loss: 0.4337 - acc: 0.7993 - val_loss: 0.5152 - val_acc: 0.7640\n",
            "Epoch 94/100\n",
            "62/62 [==============================] - 113s 2s/step - loss: 0.4310 - acc: 0.7913 - val_loss: 0.4406 - val_acc: 0.7910\n",
            "Epoch 95/100\n",
            "62/62 [==============================] - 113s 2s/step - loss: 0.4006 - acc: 0.8135 - val_loss: 0.4235 - val_acc: 0.8070\n",
            "Epoch 96/100\n",
            "62/62 [==============================] - 113s 2s/step - loss: 0.3957 - acc: 0.8250 - val_loss: 0.4791 - val_acc: 0.7980\n",
            "Epoch 97/100\n",
            "62/62 [==============================] - 115s 2s/step - loss: 0.4237 - acc: 0.8090 - val_loss: 0.4236 - val_acc: 0.8090\n",
            "Epoch 98/100\n",
            "62/62 [==============================] - 112s 2s/step - loss: 0.4098 - acc: 0.8169 - val_loss: 0.4283 - val_acc: 0.7870\n",
            "Epoch 99/100\n",
            "62/62 [==============================] - 114s 2s/step - loss: 0.3994 - acc: 0.8215 - val_loss: 0.4181 - val_acc: 0.8110\n",
            "Epoch 100/100\n",
            "62/62 [==============================] - 113s 2s/step - loss: 0.4231 - acc: 0.8054 - val_loss: 0.4073 - val_acc: 0.8120\n"
          ],
          "name": "stdout"
        }
      ]
    },
    {
      "cell_type": "code",
      "metadata": {
        "colab": {
          "base_uri": "https://localhost:8080/",
          "height": 341
        },
        "id": "q12FGhczPEfd",
        "outputId": "4d8b9301-5fd0-4820-e9d1-b2df64f0dacd"
      },
      "source": [
        "import pandas as pd\n",
        "\n",
        "pd.DataFrame(history.history).plot(figsize=(8,5))\n",
        "plt.grid(True)\n",
        "plt.gca().set_ylim(0,1)\n",
        "plt.show"
      ],
      "execution_count": 18,
      "outputs": [
        {
          "output_type": "execute_result",
          "data": {
            "text/plain": [
              "<function matplotlib.pyplot.show>"
            ]
          },
          "metadata": {
            "tags": []
          },
          "execution_count": 18
        },
        {
          "output_type": "display_data",
          "data": {
            "image/png": "[encoded data removed]",
            "text/plain": [
              "<Figure size 576x360 with 1 Axes>"
            ]
          },
          "metadata": {
            "tags": [],
            "needs_background": "light"
          }
        }
      ]
    },
    {
      "cell_type": "markdown",
      "metadata": {
        "id": "48UAXl1dPgHy"
      },
      "source": [
        "As it can be seen from the graph, in case when data augmentation method was used for data generation,  model has no overfitting. Accuracy for training and validation data are almost same.   "
      ]
    },
    {
      "cell_type": "code",
      "metadata": {
        "id": "caVPjNDlPeIm"
      },
      "source": [
        "model.save(\"project_cnn.h5\")"
      ],
      "execution_count": 19,
      "outputs": []
    },
    {
      "cell_type": "markdown",
      "metadata": {
        "id": "2FDtjQmnXnrH"
      },
      "source": [
        "# **Applying VGG16 pre-trained model architecture to further increase validation accuracy**\n",
        "\n"
      ]
    },
    {
      "cell_type": "code",
      "metadata": {
        "colab": {
          "base_uri": "https://localhost:8080/"
        },
        "id": "EsB7fu73Xmwd",
        "outputId": "9186b831-ed26-4193-b9ba-9ec74f50f44e"
      },
      "source": [
        "train_datagen = ImageDataGenerator(\n",
        "    rescale = 1./255,\n",
        "    rotation_range = 40,\n",
        "    width_shift_range = 0.2,\n",
        "    height_shift_range = 0.2,\n",
        "    shear_range = 0.2,\n",
        "    zoom_range = 0.2,\n",
        "    horizontal_flip = True,)\n",
        "\n",
        "test_datagen = ImageDataGenerator(rescale = 1./255)\n",
        "\n",
        "train_generator = train_datagen.flow_from_directory(\n",
        "    train_dir,\n",
        "    target_size = (150,150),\n",
        "    batch_size = 20,\n",
        "    class_mode = 'binary'\n",
        ")\n",
        "\n",
        "validation_generator = test_datagen.flow_from_directory(\n",
        "    validation_dir,\n",
        "    target_size = (150,150),\n",
        "    batch_size = 20, \n",
        "    class_mode = 'binary'\n",
        ")"
      ],
      "execution_count": 11,
      "outputs": [
        {
          "output_type": "stream",
          "text": [
            "Found 2000 images belonging to 2 classes.\n",
            "Found 1000 images belonging to 2 classes.\n"
          ],
          "name": "stdout"
        }
      ]
    },
    {
      "cell_type": "code",
      "metadata": {
        "colab": {
          "base_uri": "https://localhost:8080/"
        },
        "id": "TtGuQQNOUpwc",
        "outputId": "b0fbebc9-9579-4512-9366-b29539640fbd"
      },
      "source": [
        "from tensorflow.keras.applications import VGG16\n",
        "\n",
        "conv_base = VGG16(weights='imagenet',\n",
        "                  include_top = False,\n",
        "                  input_shape=(150,150,3))"
      ],
      "execution_count": 12,
      "outputs": [
        {
          "output_type": "stream",
          "text": [
            "Downloading data from https://storage.googleapis.com/tensorflow/keras-applications/vgg16/vgg16_weights_tf_dim_ordering_tf_kernels_notop.h5\n",
            "58892288/58889256 [==============================] - 0s 0us/step\n"
          ],
          "name": "stdout"
        }
      ]
    },
    {
      "cell_type": "code",
      "metadata": {
        "colab": {
          "base_uri": "https://localhost:8080/"
        },
        "id": "dFcgbEhLXMD-",
        "outputId": "bc6f98e1-1396-4e96-c610-fede473aae30"
      },
      "source": [
        "conv_base.summary()"
      ],
      "execution_count": 13,
      "outputs": [
        {
          "output_type": "stream",
          "text": [
            "Model: \"vgg16\"\n",
            "_________________________________________________________________\n",
            "Layer (type)                 Output Shape              Param #   \n",
            "=================================================================\n",
            "input_1 (InputLayer)         [(None, 150, 150, 3)]     0         \n",
            "_________________________________________________________________\n",
            "block1_conv1 (Conv2D)        (None, 150, 150, 64)      1792      \n",
            "_________________________________________________________________\n",
            "block1_conv2 (Conv2D)        (None, 150, 150, 64)      36928     \n",
            "_________________________________________________________________\n",
            "block1_pool (MaxPooling2D)   (None, 75, 75, 64)        0         \n",
            "_________________________________________________________________\n",
            "block2_conv1 (Conv2D)        (None, 75, 75, 128)       73856     \n",
            "_________________________________________________________________\n",
            "block2_conv2 (Conv2D)        (None, 75, 75, 128)       147584    \n",
            "_________________________________________________________________\n",
            "block2_pool (MaxPooling2D)   (None, 37, 37, 128)       0         \n",
            "_________________________________________________________________\n",
            "block3_conv1 (Conv2D)        (None, 37, 37, 256)       295168    \n",
            "_________________________________________________________________\n",
            "block3_conv2 (Conv2D)        (None, 37, 37, 256)       590080    \n",
            "_________________________________________________________________\n",
            "block3_conv3 (Conv2D)        (None, 37, 37, 256)       590080    \n",
            "_________________________________________________________________\n",
            "block3_pool (MaxPooling2D)   (None, 18, 18, 256)       0         \n",
            "_________________________________________________________________\n",
            "block4_conv1 (Conv2D)        (None, 18, 18, 512)       1180160   \n",
            "_________________________________________________________________\n",
            "block4_conv2 (Conv2D)        (None, 18, 18, 512)       2359808   \n",
            "_________________________________________________________________\n",
            "block4_conv3 (Conv2D)        (None, 18, 18, 512)       2359808   \n",
            "_________________________________________________________________\n",
            "block4_pool (MaxPooling2D)   (None, 9, 9, 512)         0         \n",
            "_________________________________________________________________\n",
            "block5_conv1 (Conv2D)        (None, 9, 9, 512)         2359808   \n",
            "_________________________________________________________________\n",
            "block5_conv2 (Conv2D)        (None, 9, 9, 512)         2359808   \n",
            "_________________________________________________________________\n",
            "block5_conv3 (Conv2D)        (None, 9, 9, 512)         2359808   \n",
            "_________________________________________________________________\n",
            "block5_pool (MaxPooling2D)   (None, 4, 4, 512)         0         \n",
            "=================================================================\n",
            "Total params: 14,714,688\n",
            "Trainable params: 14,714,688\n",
            "Non-trainable params: 0\n",
            "_________________________________________________________________\n"
          ],
          "name": "stdout"
        }
      ]
    },
    {
      "cell_type": "code",
      "metadata": {
        "id": "hGf8mvjLoqgQ"
      },
      "source": [
        "from tensorflow.keras import models\n",
        "from tensorflow.keras import layers\n",
        "\n",
        "model = models.Sequential()\n",
        "model.add(conv_base)\n",
        "model.add(layers.Flatten())\n",
        "model.add(layers.Dense(256, activation='relu'))\n",
        "model.add(layers.Dense(1, activation='sigmoid'))"
      ],
      "execution_count": 14,
      "outputs": []
    },
    {
      "cell_type": "code",
      "metadata": {
        "colab": {
          "base_uri": "https://localhost:8080/"
        },
        "id": "pugwgVjuoqsb",
        "outputId": "b7987265-2810-4a5e-f225-8ba3fd7831f2"
      },
      "source": [
        "model.summary()"
      ],
      "execution_count": 15,
      "outputs": [
        {
          "output_type": "stream",
          "text": [
            "Model: \"sequential_1\"\n",
            "_________________________________________________________________\n",
            "Layer (type)                 Output Shape              Param #   \n",
            "=================================================================\n",
            "vgg16 (Functional)           (None, 4, 4, 512)         14714688  \n",
            "_________________________________________________________________\n",
            "flatten_1 (Flatten)          (None, 8192)              0         \n",
            "_________________________________________________________________\n",
            "dense_2 (Dense)              (None, 256)               2097408   \n",
            "_________________________________________________________________\n",
            "dense_3 (Dense)              (None, 1)                 257       \n",
            "=================================================================\n",
            "Total params: 16,812,353\n",
            "Trainable params: 16,812,353\n",
            "Non-trainable params: 0\n",
            "_________________________________________________________________\n"
          ],
          "name": "stdout"
        }
      ]
    },
    {
      "cell_type": "code",
      "metadata": {
        "id": "jk0KYTBcoqxF"
      },
      "source": [
        "#conv_base.trainable = False"
      ],
      "execution_count": 25,
      "outputs": []
    },
    {
      "cell_type": "code",
      "metadata": {
        "id": "31rHIWiIXMXj"
      },
      "source": [
        "from tensorflow.keras import optimizers\n",
        "\n",
        "model.compile(loss='binary_crossentropy', optimizer=optimizers.RMSprop(lr=2e-5), metrics=['acc'])"
      ],
      "execution_count": 16,
      "outputs": []
    },
    {
      "cell_type": "code",
      "metadata": {
        "id": "RAMbOxcdXMbg"
      },
      "source": [
        "checkpoint_cb = keras.callbacks.ModelCheckpoint('CNN_Project_Model-{epoch:02d}.h5')"
      ],
      "execution_count": 17,
      "outputs": []
    },
    {
      "cell_type": "code",
      "metadata": {
        "colab": {
          "base_uri": "https://localhost:8080/"
        },
        "id": "TkX5KaU1XMe-",
        "outputId": "7b67a151-1f05-4483-e207-e1a08323f272"
      },
      "source": [
        "history = model.fit_generator(\n",
        "    train_generator,\n",
        "    steps_per_epoch=100,\n",
        "    epochs = 10,\n",
        "    validation_data = validation_generator,\n",
        "    validation_steps = 50,\n",
        "    callbacks=[checkpoint_cb])"
      ],
      "execution_count": 18,
      "outputs": [
        {
          "output_type": "stream",
          "text": [
            "/usr/local/lib/python3.6/dist-packages/tensorflow/python/keras/engine/training.py:1844: UserWarning: `Model.fit_generator` is deprecated and will be removed in a future version. Please use `Model.fit`, which supports generators.\n",
            "  warnings.warn('`Model.fit_generator` is deprecated and '\n"
          ],
          "name": "stderr"
        },
        {
          "output_type": "stream",
          "text": [
            "Epoch 1/10\n",
            "100/100 [==============================] - 1799s 18s/step - loss: 0.6400 - acc: 0.6298 - val_loss: 0.3412 - val_acc: 0.8530\n",
            "Epoch 2/10\n",
            "100/100 [==============================] - 1426s 14s/step - loss: 0.3666 - acc: 0.8351 - val_loss: 0.2367 - val_acc: 0.8960\n",
            "Epoch 3/10\n",
            "100/100 [==============================] - 1425s 14s/step - loss: 0.2210 - acc: 0.9050 - val_loss: 0.1412 - val_acc: 0.9490\n",
            "Epoch 4/10\n",
            "100/100 [==============================] - 1422s 14s/step - loss: 0.1849 - acc: 0.9273 - val_loss: 0.1278 - val_acc: 0.9450\n",
            "Epoch 5/10\n",
            "100/100 [==============================] - 1425s 14s/step - loss: 0.1560 - acc: 0.9363 - val_loss: 0.0947 - val_acc: 0.9600\n",
            "Epoch 6/10\n",
            "100/100 [==============================] - 1426s 14s/step - loss: 0.1437 - acc: 0.9446 - val_loss: 0.0885 - val_acc: 0.9690\n",
            "Epoch 7/10\n",
            "100/100 [==============================] - 1422s 14s/step - loss: 0.1246 - acc: 0.9509 - val_loss: 0.1356 - val_acc: 0.9370\n",
            "Epoch 8/10\n",
            "100/100 [==============================] - 1428s 14s/step - loss: 0.1432 - acc: 0.9452 - val_loss: 0.0880 - val_acc: 0.9660\n",
            "Epoch 9/10\n",
            "100/100 [==============================] - 1436s 14s/step - loss: 0.1076 - acc: 0.9634 - val_loss: 0.1304 - val_acc: 0.9570\n",
            "Epoch 10/10\n",
            "100/100 [==============================] - 1436s 14s/step - loss: 0.0829 - acc: 0.9696 - val_loss: 0.0888 - val_acc: 0.9620\n"
          ],
          "name": "stdout"
        }
      ]
    },
    {
      "cell_type": "code",
      "metadata": {
        "colab": {
          "base_uri": "https://localhost:8080/",
          "height": 341
        },
        "id": "Lls8dFMWXMjF",
        "outputId": "5a63904c-c9ca-4f1d-bcb1-be4964398b05"
      },
      "source": [
        "pd.DataFrame(history.history).plot(figsize=(8,5))\n",
        "plt.grid(True)\n",
        "plt.gca().set_ylim(0,1)\n",
        "plt.show"
      ],
      "execution_count": 20,
      "outputs": [
        {
          "output_type": "execute_result",
          "data": {
            "text/plain": [
              "<function matplotlib.pyplot.show>"
            ]
          },
          "metadata": {
            "tags": []
          },
          "execution_count": 20
        },
        {
          "output_type": "display_data",
          "data": {
            "image/png": "[encoded data removed]",
            "text/plain": [
              "<Figure size 576x360 with 1 Axes>"
            ]
          },
          "metadata": {
            "tags": [],
            "needs_background": "light"
          }
        }
      ]
    },
    {
      "cell_type": "markdown",
      "metadata": {
        "id": "w6R4mF08yOhI"
      },
      "source": [
        "From the graph, it can be seen that accuracy for training data and accuracy for validation data are almost converging toward one point, so there is no overfitting in the model. Accuracy for validation data achieved about 96% in 10 epochs, which is quite good result. VGG16 pre-trained model architecture dramatically increased accuracy result for validation dataset comparing with previous model where validation accuracy get to about 81%.  "
      ]
    },
    {
      "cell_type": "markdown",
      "metadata": {
        "id": "lR23a2gX09YS"
      },
      "source": [
        "To summary: \n",
        "\n",
        "1. Training was done to small dataset: 2000 pictures belonging to 2 class: cats and dogs \n",
        "2. Comparatively simple model where 4 blocks of Convolutional Neural Networks with MaxPooling was used to achieve about 94% accuracy for training and about 74% accuracy for validation dataset which shows overfitting in the model.\n",
        "3. Same architecture with additional dropout layer and with data augmentation methods was used to achieve accuracy about 81% for both traing and validation dataset.\n",
        "4. There are two parts of VGG16 model, conv. base and fully connected neural networks. Conv. base of VGG16 model architecture with final weights was used. 96% accuracy for validation and training data achieved in 10 epochs.     "
      ]
    }
  ]
}